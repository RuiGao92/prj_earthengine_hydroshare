{
 "cells": [
  {
   "cell_type": "code",
   "execution_count": 2,
   "metadata": {},
   "outputs": [
    {
     "name": "stdout",
     "output_type": "stream",
     "text": [
      "Starting to create a video\n",
      "Process sent to cloud\n"
     ]
    }
   ],
   "source": [
    "import ee\n",
    "from ee import batch\n",
    "\n",
    "## Initialize connection to server\n",
    "ee.Initialize()\n",
    "\n",
    "## Define your image collection \n",
    "collection = ee.ImageCollection('LANDSAT/LC8_L1T_TOA')\n",
    "\n",
    "## Define time range\n",
    "collection_time = collection.filterDate('2010-04-11', '2020-01-01') #YYYY-MM-DD\n",
    "\n",
    "## Select location based on location of tile\n",
    "path = collection_time.filter(ee.Filter.eq('WRS_PATH', 198))\n",
    "pathrow = path.filter(ee.Filter.eq('WRS_ROW', 24))\n",
    "# or via geographical location:\n",
    "#point_geom = ee.Geometry.Point(5, 52) #longitude, latitude\n",
    "#pathrow = collection_time.filterBounds(point_geom)\n",
    "\n",
    "## Select imagery with less then 5% of image covered by clouds\n",
    "clouds = pathrow.filter(ee.Filter.lt('CLOUD_COVER', 5))\n",
    "\n",
    "## Select bands\n",
    "bands = clouds.select(['B4', 'B3', 'B2'])\n",
    "\n",
    "## Make 8 bit data\n",
    "def convertBit(image):\n",
    "    return image.multiply(512).uint8()  \n",
    "\n",
    "## Convert bands to output video  \n",
    "outputVideo = bands.map(convertBit)\n",
    "\n",
    "print(\"Starting to create a video\")\n",
    "\n",
    "## Export video to Google Drive\n",
    "out = batch.Export.video.toDrive(outputVideo, description='Netherlands_video_region_L8_time', dimensions = 720, framesPerSecond = 1, region=([5.588144,51.993435], [5.727906, 51.993435],[5.727906, 51.944356],[5.588144, 51.944356]), maxFrames=10000)\n",
    "\n",
    "## Process the image\n",
    "process = batch.Task.start(out)\n",
    "\n",
    "print(\"Process sent to cloud\")"
   ]
  },
  {
   "cell_type": "code",
   "execution_count": null,
   "metadata": {},
   "outputs": [],
   "source": []
  }
 ],
 "metadata": {
  "kernelspec": {
   "display_name": "Python 3",
   "language": "python",
   "name": "python3"
  },
  "language_info": {
   "codemirror_mode": {
    "name": "ipython",
    "version": 3
   },
   "file_extension": ".py",
   "mimetype": "text/x-python",
   "name": "python",
   "nbconvert_exporter": "python",
   "pygments_lexer": "ipython3",
   "version": "3.6.7"
  },
  "latex_envs": {
   "LaTeX_envs_menu_present": true,
   "autoclose": false,
   "autocomplete": true,
   "bibliofile": "biblio.bib",
   "cite_by": "apalike",
   "current_citInitial": 1,
   "eqLabelWithNumbers": true,
   "eqNumInitial": 1,
   "hotkeys": {
    "equation": "Ctrl-E",
    "itemize": "Ctrl-I"
   },
   "labels_anchors": false,
   "latex_user_defs": false,
   "report_style_numbering": false,
   "user_envs_cfg": false
  }
 },
 "nbformat": 4,
 "nbformat_minor": 2
}
