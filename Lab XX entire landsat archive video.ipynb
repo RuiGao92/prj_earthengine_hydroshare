{
 "cells": [
  {
   "cell_type": "code",
   "execution_count": 60,
   "metadata": {},
   "outputs": [
    {
     "data": {
      "application/vnd.jupyter.widget-view+json": {
       "model_id": "16a3fda3767e46b084c0c513a01eb4db",
       "version_major": 2,
       "version_minor": 0
      },
      "text/plain": [
       "Map(center=[0, 0], controls=(ZoomControl(options=['position', 'zoom_in_text', 'zoom_in_title', 'zoom_out_text'…"
      ]
     },
     "metadata": {},
     "output_type": "display_data"
    },
    {
     "data": {
      "application/vnd.jupyter.widget-view+json": {
       "model_id": "49143b4e19934d7b8a4127082c284ba6",
       "version_major": 2,
       "version_minor": 0
      },
      "text/plain": [
       "Tab(children=(CustomInspector(children=(SelectMultiple(options=OrderedDict(), value=()), Accordion(selected_in…"
      ]
     },
     "metadata": {},
     "output_type": "display_data"
    }
   ],
   "source": [
    "# Initializing display and earthengine\n",
    "from IPython.display import Image\n",
    "%matplotlib inline\n",
    "\n",
    "import ee\n",
    "from ee import batch\n",
    "\n",
    "ee.Initialize()\n",
    "\n",
    "# importing ipygee for dynamic mapping\n",
    "from ipygee import *\n",
    "\n",
    "Map = Map() # from ipygee\n",
    "Map.show()"
   ]
  },
  {
   "cell_type": "code",
   "execution_count": 61,
   "metadata": {},
   "outputs": [],
   "source": [
    "# /// define a geometry called Geometry. This script is tested on a region in south korea\n",
    "# /// script here https://code.earthengine.google.com/856588caf0ec3d680310d96386db71fb \n",
    "# /// I acknowledge and thanks the Google Earth Engine Developers mailing list for the help with this\n",
    "# /// Non commerical code, purely for educational purposes\n",
    "# /// A summer 2018 project by Andrew Cutts"
   ]
  },
  {
   "cell_type": "code",
   "execution_count": 62,
   "metadata": {},
   "outputs": [],
   "source": [
    "geometry = ee.Geometry.Polygon(\n",
    "        [[[126.1300964920049, 36.03156674990238],\n",
    "          [126.1355896560674, 35.54587234645661],\n",
    "          [127.0749207107549, 35.54587234645661],\n",
    "          [127.0749207107549, 36.06709700011599]]]);\n",
    "        \n",
    "# // Landat 5 surface reflection data\n",
    "L5coll = ee.ImageCollection('LANDSAT/LT05/C01/T1_SR').\\\n",
    "filter(ee.Filter.lt('CLOUD_COVER',5)).\\\n",
    "select(['B3', 'B2', 'B1']).\\\n",
    "filterBounds(geometry)"
   ]
  },
  {
   "cell_type": "code",
   "execution_count": 63,
   "metadata": {},
   "outputs": [],
   "source": [
    "# // Landat 7 surface reflection data, fill in the gaps! See USGS pages for more info\n",
    "def fill_im(image):\n",
    "    filled1a = image.focal_mean(2, 'square', 'pixels', 1)\n",
    "    return filled1a.blend(image)\n",
    "\n",
    "\n",
    "L7coll = ee.ImageCollection('LANDSAT/LE07/C01/T1_SR').\\\n",
    "filter(ee.Filter.lt('CLOUD_COVER',5)).\\\n",
    "select(['B3', 'B2', 'B1']).\\\n",
    "filterBounds(geometry).\\\n",
    "map(fill_im)"
   ]
  },
  {
   "cell_type": "code",
   "execution_count": 64,
   "metadata": {},
   "outputs": [],
   "source": [
    "# // Landat 8 surface reflection data, rename the band names. See USGS pages for more info\n",
    "def rename_im(image):\n",
    "    return image.rename(['B0', 'B1', 'B2', 'B3', 'B4', 'B5', 'B6', 'B7', 'B8', 'B9', 'B10', 'B11']);\n",
    "\n",
    "\n",
    "L8coll = ee.ImageCollection('LANDSAT/LC08/C01/T1_SR').\\\n",
    "filter(ee.Filter.lt('CLOUD_COVER',5)).\\\n",
    "filterBounds(geometry).\\\n",
    "map(rename_im).\\\n",
    "select(['B3', 'B2', 'B1']);"
   ]
  },
  {
   "cell_type": "code",
   "execution_count": 69,
   "metadata": {},
   "outputs": [],
   "source": [
    "# // merge L5, L7 & L8\n",
    "collection_merge = ee.ImageCollection(L5coll.merge(L7coll.merge(L8coll)));\n",
    "# print (collection_merge)\n",
    "\n",
    "# // create a list of years to be iterated over next..\n",
    "years = ee.List.sequence(1984, 2018)\n",
    "# //print (years)\n",
    "\n",
    "# // create a collection with 1 image for each year\n",
    "def merge_im(y):\n",
    "    start = ee.Date.fromYMD(y, 1, 1)\n",
    "    end = start.advance(12, 'month');\n",
    "    return collection_merge.filterDate(start, end).reduce(ee.Reducer.median())\n",
    "\n",
    "\n",
    "collectYear = ee.ImageCollection(years.map(merge_im))\n",
    "\n",
    "# //print (collectYear)\n",
    "\n",
    "# // count number of bands in each image, if 0 remove from image collection\n",
    "def set_im(image):\n",
    "      return image.set('count', image.bandNames().length())\n",
    "\n",
    "\n",
    "nullimages = collectYear.map(set_im).filter(ee.Filter.eq('count', 3))\n",
    "# //print(nullimages)\n",
    "\n",
    "# // visualise the collection\n",
    "def vis_im(image):\n",
    "    return image.visualize(bands= ['B3_median', 'B2_median', 'B1_median'], min= 300, max= 10000)\n",
    "\n",
    "finalCollection = nullimages.map(vis_im)"
   ]
  },
  {
   "cell_type": "code",
   "execution_count": 66,
   "metadata": {},
   "outputs": [
    {
     "name": "stdout",
     "output_type": "stream",
     "text": [
      "Starting to create a video\n",
      "Process sent to cloud\n"
     ]
    }
   ],
   "source": [
    "## Make 8 bit data\n",
    "def convertBit(image):\n",
    "    return image.uint8()  \n",
    "\n",
    "## Convert bands to output video  \n",
    "outputVideo = finalCollection.map(convertBit)\n",
    "\n",
    "print(\"Starting to create a video\")\n",
    "\n",
    "## Export video to Google Drive\n",
    "out = batch.Export.video.toDrive(outputVideo, \n",
    "                                 description='Netherlands_video_region_L8_time', \n",
    "                                 dimensions = 720, \n",
    "                                 framesPerSecond = 1, \n",
    "                                 region=geometry,\n",
    "                                 maxFrames=10000)\n",
    "\n",
    "## Process the image\n",
    "process = batch.Task.start(out)\n",
    "\n",
    "print(\"Process sent to cloud\")\n",
    "\n"
   ]
  },
  {
   "cell_type": "code",
   "execution_count": 70,
   "metadata": {},
   "outputs": [],
   "source": [
    "# // add to map the first image in collection to check\n",
    "median_1987 = finalCollection.first()\n",
    "Map.addLayer(median_1987, {}, 'first image7');\n",
    "# © 2020 GitHub, Inc."
   ]
  },
  {
   "cell_type": "code",
   "execution_count": null,
   "metadata": {},
   "outputs": [],
   "source": []
  }
 ],
 "metadata": {
  "kernelspec": {
   "display_name": "Python 3",
   "language": "python",
   "name": "python3"
  },
  "language_info": {
   "codemirror_mode": {
    "name": "ipython",
    "version": 3
   },
   "file_extension": ".py",
   "mimetype": "text/x-python",
   "name": "python",
   "nbconvert_exporter": "python",
   "pygments_lexer": "ipython3",
   "version": "3.6.7"
  },
  "latex_envs": {
   "LaTeX_envs_menu_present": true,
   "autoclose": false,
   "autocomplete": true,
   "bibliofile": "biblio.bib",
   "cite_by": "apalike",
   "current_citInitial": 1,
   "eqLabelWithNumbers": true,
   "eqNumInitial": 1,
   "hotkeys": {
    "equation": "Ctrl-E",
    "itemize": "Ctrl-I"
   },
   "labels_anchors": false,
   "latex_user_defs": false,
   "report_style_numbering": false,
   "user_envs_cfg": false
  }
 },
 "nbformat": 4,
 "nbformat_minor": 2
}
